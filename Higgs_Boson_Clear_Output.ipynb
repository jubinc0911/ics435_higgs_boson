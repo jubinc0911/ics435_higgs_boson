{
 "cells": [
  {
   "cell_type": "code",
   "execution_count": null,
   "id": "1141e751-5016-4f47-b761-7838a4dfe676",
   "metadata": {},
   "outputs": [],
   "source": [
    "import numpy as np\n",
    "import pandas as pd\n",
    "from sklearn.model_selection import train_test_split\n",
    "from sklearn.metrics import roc_auc_score, roc_curve, auc\n",
    "import xgboost as xgb\n",
    "import lightgbm as lgb\n",
    "import optuna\n",
    "from optuna.samplers import TPESampler\n",
    "from autogluon.tabular import TabularDataset, TabularPredictor\n",
    "import matplotlib.pylab as plt\n"
   ]
  },
  {
   "cell_type": "markdown",
   "id": "66bf4222-312d-4904-aec6-b94315db3cdf",
   "metadata": {},
   "source": [
    "## Data Processing"
   ]
  },
  {
   "cell_type": "code",
   "execution_count": null,
   "id": "ec91ec51-28a4-471d-8970-66f8d48888dd",
   "metadata": {},
   "outputs": [],
   "source": [
    "train_data = pd.read_csv(\"train.csv\")\n",
    "test_data = pd.read_csv(\"test.csv\")\n",
    "\n",
    "X_train, X_val, y_train, y_val = train_test_split(train_data.drop(['label'], axis=1), train_data['label'], random_state=42, train_size=0.8)\n",
    "\n",
    "\n",
    "ag_train = X_train.copy()\n",
    "ag_train['label'] = y_train"
   ]
  },
  {
   "cell_type": "markdown",
   "id": "56cb0b4b-069e-49d1-bb6b-54483f132a07",
   "metadata": {},
   "source": [
    "## LGBMClassifier"
   ]
  },
  {
   "cell_type": "code",
   "execution_count": null,
   "id": "154b370e-3f67-4ce0-98bb-c215a28beee2",
   "metadata": {
    "scrolled": true
   },
   "outputs": [],
   "source": [
    "def LGBM_objective(trial):\n",
    "    param = {\n",
    "        'objective': 'binary',\n",
    "        'metric': 'auc',\n",
    "        'boosting_type': 'gbdt',\n",
    "        'num_leaves': trial.suggest_int('num_leaves', 50, 250),\n",
    "        'max_depth': trial.suggest_int('max_depth', 6, 15),\n",
    "        'learning_rate': trial.suggest_float('learning_rate', 0.01, 0.03),\n",
    "        'n_estimators': trial.suggest_int('n_estimators', 500, 3000),\n",
    "        'min_child_samples': trial.suggest_int('min_child_samples', 5, 50),\n",
    "        'subsample': trial.suggest_float('subsample', 0.3, 1.0),\n",
    "        'colsample_bytree': trial.suggest_float('colsample_bytree', 0.3, 1.0),\n",
    "        'reg_alpha': trial.suggest_float('reg_alpha', 0.0, 2.0),\n",
    "        'reg_lambda': trial.suggest_float('reg_lambda', 0.0, 2.0),\n",
    "        'random_state': 42,\n",
    "        'early_stopping': 100,\n",
    "        'verbose': -1\n",
    "    }\n",
    "    \n",
    "    lgb_model = lgb.train(\n",
    "        param, \n",
    "        lgb.Dataset(X_train, label=y_train), \n",
    "        valid_sets=[lgb.Dataset(X_val, label=y_val, reference=lgb.Dataset(X_train, label=y_train))], \n",
    "    )\n",
    "    \n",
    "    y_pred = lgb_model.predict(X_val)\n",
    "    auc_score = roc_auc_score(y_val, y_pred)\n",
    "    return auc_score\n",
    "\n",
    "sampler = TPESampler(seed=42)\n",
    "\n",
    "lgbm_study = optuna.create_study(direction='maximize', sampler=sampler)\n",
    "lgbm_study.optimize(LGBM_objective, n_trials=200)"
   ]
  },
  {
   "cell_type": "code",
   "execution_count": null,
   "id": "54200ddd-91fd-449e-910b-85d07528ddac",
   "metadata": {},
   "outputs": [],
   "source": [
    "print(lgbm_study.best_value)\n",
    "print(lgbm_study.best_params)"
   ]
  },
  {
   "cell_type": "code",
   "execution_count": null,
   "id": "16d54d50-1990-498d-ac1d-74218aef3994",
   "metadata": {
    "scrolled": true
   },
   "outputs": [],
   "source": [
    "lgbm_best_params = lgbm_study.best_params\n",
    "\n",
    "optimal_lgbm = lgb.LGBMClassifier(\n",
    "    **lgbm_best_params, \n",
    "    objective='binary', \n",
    "    boosting_type='gbdt', \n",
    "    random_state=42, \n",
    "    metric='auc', \n",
    "    early_stopping=100\n",
    ")\n",
    "\n",
    "optimal_lgbm.fit(X_train, y_train, eval_set=[(X_val, y_val)], eval_metric='auc')"
   ]
  },
  {
   "cell_type": "code",
   "execution_count": null,
   "id": "b8624195-9a79-4921-b49f-42321d43bfd9",
   "metadata": {},
   "outputs": [],
   "source": [
    "optimal_lgbm.best_score_"
   ]
  },
  {
   "cell_type": "code",
   "execution_count": null,
   "id": "df70dd72-1d84-40d6-92fc-b7313a95c77f",
   "metadata": {},
   "outputs": [],
   "source": [
    "y_val"
   ]
  },
  {
   "cell_type": "code",
   "execution_count": null,
   "id": "d96f75b9-b799-4b96-90ee-14fc6422c4f8",
   "metadata": {},
   "outputs": [],
   "source": [
    "lgbm_y_pred = optimal_lgbm.predict_proba(X_val)[:, 1]\n",
    "\n",
    "lgbm_fpr, lgbm_tpr, lgbm_thresholds = roc_curve(y_val, lgbm_y_pred)\n",
    "lgbm_auroc = auc(lgbm_fpr, lgbm_tpr)\n",
    "print(f\"LightGBM AUROC: {lgbm_auroc}\")\n",
    "\n",
    "plt.plot(lgbm_fpr, lgbm_tpr)\n",
    "plt.plot([0, 1], [0, 1], color='navy', lw=2, linestyle='--')\n",
    "plt.xlim([0.0, 1.0])\n",
    "plt.ylim([0.0, 1.05])\n",
    "plt.xlabel('False Positive Rate')\n",
    "plt.ylabel('True Positive Rate')\n",
    "\n",
    "_ = plt.title('LightGBM ROC Curve')\n"
   ]
  },
  {
   "cell_type": "code",
   "execution_count": null,
   "id": "544937a7-490b-4956-bc4e-5383313635b1",
   "metadata": {},
   "outputs": [],
   "source": [
    "lgbm_predictions = optimal_lgbm.predict_proba(test_data)[:, 1]\n",
    "lgbm_predictions"
   ]
  },
  {
   "cell_type": "code",
   "execution_count": null,
   "id": "0bc9b142-62ab-42c4-95f1-0a1dcff5d655",
   "metadata": {},
   "outputs": [],
   "source": []
  },
  {
   "cell_type": "markdown",
   "id": "e43a9215-eb7e-425c-a3ab-39be08c59b1c",
   "metadata": {},
   "source": [
    "## XGBoost"
   ]
  },
  {
   "cell_type": "code",
   "execution_count": null,
   "id": "7243bf52-052d-4642-89fe-19569b4f8e9e",
   "metadata": {},
   "outputs": [],
   "source": [
    "X_train"
   ]
  },
  {
   "cell_type": "code",
   "execution_count": null,
   "id": "a3de3616-cec3-42d5-8955-ff0b822e457f",
   "metadata": {
    "scrolled": true
   },
   "outputs": [],
   "source": [
    "def XGBCobjective(trial):\n",
    "    xgb_params = {\n",
    "        'objective': 'binary:logistic',\n",
    "        'eval_metric': 'auc',\n",
    "        'random_state': 42,\n",
    "        'early_stopping_rounds': 200,\n",
    "        'n_estimators': trial.suggest_int('n_estimators', 500, 3000),\n",
    "        'max_depth': trial.suggest_int('max_depth', 5, 12),\n",
    "        'learning_rate': trial.suggest_float('learning_rate', 0.01, 0.03),\n",
    "        'reg_alpha': trial.suggest_float('reg_alpha', 0, 3),\n",
    "        'reg_lambda': trial.suggest_float('reg_lambda', 0.1, 3),\n",
    "        'gamma': trial.suggest_float('gamma', 0.01, 2),\n",
    "        'subsample': trial.suggest_float('subsample', 0.4, 1.0),\n",
    "        'min_child_weight': trial.suggest_int('min_child_weight', 1, 10),\n",
    "        'colsample_bytree': trial.suggest_float('colsample_bytree', 0.3, 1.0),\n",
    "        \n",
    "    }\n",
    "    \n",
    "    xgbc = xgb.XGBClassifier(**xgb_params, verbosity=0)\n",
    "    \n",
    "    xgbc.fit(X_train, y_train, eval_set=[(X_val, y_val)])\n",
    "    \n",
    "    y_pred = xgbc.predict_proba(X_val)[:, 1]\n",
    "    auc_score = roc_auc_score(y_val, y_pred)\n",
    "    return auc_score\n",
    "    \n",
    "sampler = TPESampler(seed=42)\n",
    "optuna.logging.set_verbosity(optuna.logging.INFO)\n",
    "xgb.set_config(verbosity=0)\n",
    "xgbc_study = optuna.create_study(direction='maximize', sampler=sampler)\n",
    "xgbc_study.optimize(XGBCobjective, n_trials=200)"
   ]
  },
  {
   "cell_type": "code",
   "execution_count": null,
   "id": "564a7608-1534-4c68-a6fe-4f9b2a467b04",
   "metadata": {},
   "outputs": [],
   "source": [
    "print(xgbc_study.best_value)\n",
    "print(xgbc_study.best_params)"
   ]
  },
  {
   "cell_type": "code",
   "execution_count": null,
   "id": "b1e962b4-89f4-43a6-8ed3-b1301c92d745",
   "metadata": {},
   "outputs": [],
   "source": [
    "xgbc_study.best_params"
   ]
  },
  {
   "cell_type": "code",
   "execution_count": null,
   "id": "35e40972-8a6e-40be-bbd4-bcd73de5169b",
   "metadata": {},
   "outputs": [],
   "source": [
    "xgb_best_params = xgbc_study.best_params"
   ]
  },
  {
   "cell_type": "code",
   "execution_count": null,
   "id": "5b8b6784-1f35-4371-b9b0-e7a4c97f8f6a",
   "metadata": {},
   "outputs": [],
   "source": [
    "optimal_xgb = xgb.XGBClassifier(\n",
    "    **xgb_best_params, random_state=42, eval_metric='auc', early_stopping_rounds=200, objective='binary:logistic',\n",
    ")"
   ]
  },
  {
   "cell_type": "code",
   "execution_count": null,
   "id": "73ad9615-6f45-4b65-a79a-1ff9c9f282b6",
   "metadata": {
    "scrolled": true
   },
   "outputs": [],
   "source": [
    "optimal_xgb.fit(X_train, y_train, eval_set=[(X_val, y_val)])"
   ]
  },
  {
   "cell_type": "code",
   "execution_count": null,
   "id": "77ae5c86-ffdd-423a-a812-e091da308182",
   "metadata": {},
   "outputs": [],
   "source": [
    "optimal_xgb.best_score"
   ]
  },
  {
   "cell_type": "code",
   "execution_count": null,
   "id": "1cc113f4-8420-4e37-be56-c9ba7e89a6c2",
   "metadata": {},
   "outputs": [],
   "source": []
  },
  {
   "cell_type": "markdown",
   "id": "60ac6893-f7d0-423b-96b4-7becc4ed9375",
   "metadata": {},
   "source": [
    "### XGBoost ROC Curve"
   ]
  },
  {
   "cell_type": "code",
   "execution_count": null,
   "id": "7130fb08-cc54-4035-b23e-753f9733cc1f",
   "metadata": {},
   "outputs": [],
   "source": [
    "xgb_y_pred = optimal_xgb.predict_proba(X_val)[:, 1]\n",
    "\n",
    "xgb_fpr, xgb_tpr, xgb_thresholds = roc_curve(y_val, xgb_y_pred)\n",
    "xgb_auroc = auc(xgb_fpr, xgb_tpr)\n",
    "print(f\"XGBoost AUROC: {xgb_auroc}\")\n",
    "\n",
    "plt.plot(xgb_fpr, xgb_tpr)\n",
    "plt.plot([0, 1], [0, 1], color='navy', lw=2, linestyle='--')\n",
    "plt.xlim([0.0, 1.0])\n",
    "plt.ylim([0.0, 1.05])\n",
    "plt.xlabel('False PositiveRate')\n",
    "plt.ylabel('True Positive Rate')\n",
    "_ = plt.title('XGBoost ROC Curve')"
   ]
  },
  {
   "cell_type": "code",
   "execution_count": null,
   "id": "647a56aa-30e7-4d12-8e9f-e017753879c4",
   "metadata": {},
   "outputs": [],
   "source": [
    "xgb_predictions = optimal_xgb.predict_proba(test_data)[:, 1]\n",
    "xgb_predictions"
   ]
  },
  {
   "cell_type": "code",
   "execution_count": null,
   "id": "ee21fa73-d4b8-4c1f-803a-10bb73b0c32b",
   "metadata": {},
   "outputs": [],
   "source": []
  },
  {
   "cell_type": "markdown",
   "id": "f0eed7bc-f879-4acc-a9ea-d7645fe19575",
   "metadata": {},
   "source": [
    "## Autogluon Model"
   ]
  },
  {
   "cell_type": "code",
   "execution_count": null,
   "id": "1aeef344-f479-47bd-98b8-3919cad3e703",
   "metadata": {
    "scrolled": true
   },
   "outputs": [],
   "source": [
    "predictor = TabularPredictor(\n",
    "    label='label', \n",
    "    path='autogluon_model/', \n",
    "    eval_metric='roc_auc'\n",
    ").fit(ag_train, presets='best_quality', num_gpus=1, time_limit=10800)\n",
    "\n",
    "autogluon_predictions = predictor.predict_proba(test_data, tuning_data=X_val, as_multiclass=False, transform_features=False)\n",
    "\n",
    "ag_y_pred = predictor.predict_proba(X_val, as_multiclass=False, transform_features=False)"
   ]
  },
  {
   "cell_type": "code",
   "execution_count": null,
   "id": "2b9e6969-c41a-4159-b151-e11380d4a455",
   "metadata": {},
   "outputs": [],
   "source": [
    "predictor = TabularPredictor.load(\"/Users/jubinchoi/s25_uh_manoa/ics435/hw3/autogluon_model\")"
   ]
  },
  {
   "cell_type": "code",
   "execution_count": null,
   "id": "7ba21ecd-5586-4ed1-8ebb-c747c8f67068",
   "metadata": {},
   "outputs": [],
   "source": [
    "predictor.fit_summary()"
   ]
  },
  {
   "cell_type": "code",
   "execution_count": null,
   "id": "361d5da7-4360-4edc-ad18-44dee4ef03e0",
   "metadata": {},
   "outputs": [],
   "source": [
    "ag_y_pred = predictor.predict_proba(X_val, as_multiclass=False, transform_features=False)"
   ]
  },
  {
   "cell_type": "code",
   "execution_count": null,
   "id": "fd34dea8-4672-4894-a307-bac9e7cef896",
   "metadata": {},
   "outputs": [],
   "source": [
    "autogluon_predictions = predictor.predict_proba(test_data)[:, 1]"
   ]
  },
  {
   "cell_type": "code",
   "execution_count": null,
   "id": "e7ac6b9d-a2c2-4d51-ae31-01ec3c6ce259",
   "metadata": {},
   "outputs": [],
   "source": []
  },
  {
   "cell_type": "markdown",
   "id": "25f1cf74-6b02-49b3-b1c3-2fd89f52bbb2",
   "metadata": {},
   "source": [
    "### Submission File"
   ]
  },
  {
   "cell_type": "code",
   "execution_count": null,
   "id": "bfe6a071-1fe0-4302-a71d-4125d6ba7faa",
   "metadata": {},
   "outputs": [],
   "source": [
    "idx = np.arange(0, 50000).reshape(-1, 1)\n",
    "lgbm_predictions = lgbm_predictions.reshape(-1, 1)\n",
    "xgb_predictions = xgb_predictions.reshape(-1, 1)\n",
    "autogluon_predictions = autogluon_predictions.reshape(-1, 1)\n",
    "\n",
    "lgbm_output = np.hstack((ids, lgbm_predictions))\n",
    "xgb_output = np.hstack((ids, xgb_predictions))\n",
    "autogluon_output np.hstack((ids, autogluon_predictions))\n",
    "\n",
    "np.savetxt(fname='xgboost_submission_optuna.csv', X=lgbm_output, header='Id,Predicted', delimiter=',', comments='')\n",
    "np.savetxt(fname='lgbm_submission_optuna.csv', X=xgb_output, header='Id,Predicted', delimiter=',', comments='')\n",
    "np.savetxt(fname='autogluon_submission.csv', X=autogluon_predictions, header='Id,Predicted', delimiter=',', comments='')\n"
   ]
  },
  {
   "cell_type": "code",
   "execution_count": null,
   "id": "5b277dae-8144-4687-bafd-928b4c86391f",
   "metadata": {},
   "outputs": [],
   "source": []
  }
 ],
 "metadata": {
  "kernelspec": {
   "display_name": "Python 3 (ipykernel)",
   "language": "python",
   "name": "python3"
  },
  "language_info": {
   "codemirror_mode": {
    "name": "ipython",
    "version": 3
   },
   "file_extension": ".py",
   "mimetype": "text/x-python",
   "name": "python",
   "nbconvert_exporter": "python",
   "pygments_lexer": "ipython3",
   "version": "3.11.5"
  }
 },
 "nbformat": 4,
 "nbformat_minor": 5
}
